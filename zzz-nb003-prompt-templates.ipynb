{
 "cells": [
  {
   "cell_type": "markdown",
   "id": "465c003a-29cf-4cfe-a0c6-d36c04ae2b37",
   "metadata": {},
   "source": [
    "# Prompts and Prompt Templates\n",
    "* Introduce programming in your conversation with the LLM."
   ]
  },
  {
   "cell_type": "markdown",
   "id": "c759d27a-94f3-4141-945d-065f2095bffd",
   "metadata": {
    "jp-MarkdownHeadingCollapsed": true
   },
   "source": [
    "## Intro\n",
    "* Input: the prompt we send to the LLM.\n",
    "* Output: the response from the LLM.\n",
    "* We can switch LLMs and use several different LLMs."
   ]
  },
  {
   "cell_type": "markdown",
   "id": "8981f91b-686d-401c-a872-65487f93b46e",
   "metadata": {},
   "source": [
    "## Table of contents\n",
    "* LLMs.\n",
    "* Prompts and Prompt Templates.\n",
    "* Types of prompts: Zero Shot and Few Shot(s) Prompt.\n",
    "* Serialization: Saving and Loading Prompts.\n",
    "* Parsing Outputs."
   ]
  },
  {
   "cell_type": "markdown",
   "id": "8332b6e9-8164-4859-879c-f021a4dfd69d",
   "metadata": {},
   "source": [
    "## LangChain divides LLMs in two types\n",
    "1. LLM Model: text-completion model.\n",
    "2. Chat Model: converses with a sequence of messages and can have a particular role defined (system prompt). This type has become the most used in LangChain.\n"
   ]
  },
  {
   "cell_type": "markdown",
   "id": "de42a3ca-fc4d-4b91-b3bc-a7304ec4d5f8",
   "metadata": {},
   "source": [
    "## See the differences\n",
    "* Even when sometimes the LangChain documentation can be confusing about it, the fact is that text-completion models and Chat models are both LLMs.\n",
    "* But, as you can see in this [playground](https://platform.openai.com/playground/chat?models=gpt-4o), they have some significant differences. See that the chat models in LangChain have system messages, human messages (called \"user messages\" by OpenAI) and AI messages (called \"Assitant Messages\" by OpenAI).\n",
    "* Since the launch of chatGPT, the Chat Model is the most popular LLM type and is used in most LLM apps."
   ]
  },
  {
   "cell_type": "markdown",
   "id": "5a2f9501-fa9e-4830-95e2-537dff951cf1",
   "metadata": {},
   "source": [
    "## List of LLMs that can work with LangChain\n",
    "* See the list [here](https://python.langchain.com/v0.1/docs/integrations/llms/)."
   ]
  },
  {
   "cell_type": "code",
   "execution_count": 2,
   "id": "e9a10870-432e-4818-aa5e-6be24c579d39",
   "metadata": {},
   "outputs": [
    {
     "name": "stdout",
     "output_type": "stream",
     "text": [
      "Requirement already satisfied: python-dotenv in /Users/saurabhsingh/Applications/anaconda3/envs/llmapp/lib/python3.11/site-packages (1.0.1)\n"
     ]
    }
   ],
   "source": [
    "! pip install python-dotenv"
   ]
  },
  {
   "cell_type": "code",
   "execution_count": 4,
   "id": "b6a63cbf",
   "metadata": {},
   "outputs": [],
   "source": [
    "import os\n",
    "from dotenv import load_dotenv, find_dotenv\n",
    "_ = load_dotenv(find_dotenv())"
   ]
  },
  {
   "cell_type": "code",
   "execution_count": 1,
   "id": "fecd39d0-e72e-4bc2-8a68-2fa4008ea365",
   "metadata": {},
   "outputs": [],
   "source": [
    "# import os\n",
    "# from dotenv import load_dotenv, find_dotenv\n",
    "# _ = load_dotenv(find_dotenv())\n",
    "# openai_api_key = os.environ[\"OPENAI_API_KEY\"]\n",
    "\n"
   ]
  },
  {
   "cell_type": "markdown",
   "id": "03f4a923-b19e-498e-9be5-e47ec4a77d80",
   "metadata": {},
   "source": [
    "#### Install LangChain"
   ]
  },
  {
   "cell_type": "markdown",
   "id": "6fa888f7-3718-4829-8645-30acb43db51f",
   "metadata": {},
   "source": [
    "If you are using the pre-loaded poetry shell, you do not need to install the following package because it is already pre-loaded for you:"
   ]
  },
  {
   "cell_type": "code",
   "execution_count": 3,
   "id": "c1cf94ae-6c39-4475-9c5b-4b74d8d78753",
   "metadata": {},
   "outputs": [],
   "source": [
    "#!pip install langchain"
   ]
  },
  {
   "cell_type": "markdown",
   "id": "189e9e17-dfb0-4fd3-85b9-1fba83771941",
   "metadata": {},
   "source": [
    "## Connect with an LLM"
   ]
  },
  {
   "cell_type": "markdown",
   "id": "4d5d5b71-b26a-4cd5-9765-019077a67141",
   "metadata": {},
   "source": [
    "If you are using the pre-loaded poetry shell, you do not need to install the following package because it is already pre-loaded for you:"
   ]
  },
  {
   "cell_type": "code",
   "execution_count": 4,
   "id": "148df8e0-361d-4ddd-8709-af48fa1648d1",
   "metadata": {},
   "outputs": [],
   "source": [
    "#!pip install langchain-openai"
   ]
  },
  {
   "cell_type": "markdown",
   "id": "a1998155-91de-4cbc-bc88-8d77beefb51b",
   "metadata": {},
   "source": [
    "* NOTE: Since right now is the best LLM in the market, we will use OpenAI by default. You will see how to connect with other Open Source LLMs like Llama3 or Mistral in a next lesson."
   ]
  },
  {
   "cell_type": "markdown",
   "id": "fbf1d17b-6d15-423b-b554-26d6d977ca27",
   "metadata": {},
   "source": [
    "## LLM Model\n",
    "* The trend before the launch of chatGPT-4.\n",
    "* See LangChain documentation about LLM Models [here](https://python.langchain.com/v0.1/docs/modules/model_io/llms/)."
   ]
  },
  {
   "cell_type": "code",
   "execution_count": 5,
   "id": "58541a4a",
   "metadata": {},
   "outputs": [],
   "source": [
    "from langchain_groq import ChatGroq\n",
    "\n",
    "llamaChatModel = ChatGroq(\n",
    "    model=\"llama3-70b-8192\"\n",
    ")"
   ]
  },
  {
   "cell_type": "code",
   "execution_count": 2,
   "id": "e92628f2-62e8-436c-92d4-e849de7744ad",
   "metadata": {},
   "outputs": [],
   "source": [
    "# from langchain_openai import OpenAI\n",
    "\n",
    "# llmModel = OpenAI()"
   ]
  },
  {
   "cell_type": "code",
   "execution_count": 3,
   "id": "b14d27c3-0b1b-4b11-a883-8da2734f21a7",
   "metadata": {},
   "outputs": [],
   "source": [
    "from langchain_openai import ChatOpenAI\n",
    "\n",
    "chatModel = ChatOpenAI(model=\"gpt-3.5-turbo-0125\")"
   ]
  },
  {
   "cell_type": "markdown",
   "id": "c2f91601-8594-41d3-9316-d51791fc54e8",
   "metadata": {},
   "source": [
    "## Prompts and Prompt Templates\n",
    "A **prompt** is the input we provide to one language model. This input will guide the way the language model will respond.\n",
    "There are many types of prompts:\n",
    "* Plain instructions.\n",
    "* Instructions with a few examples (few-shot examples).\n",
    "* Specific context and questions appropiate for a given task.\n",
    "* Etc.\n",
    "* See the LangChain documentation about prompts [here](https://python.langchain.com/v0.1/docs/modules/model_io/prompts/quick_start/).\n",
    "\n",
    "**Prompt templates** are pre-defined prompt recipes that usually need some extra pieces to be complete. These extra pieces are variables that the user will provide.\n",
    "* Prompt templates: when we want to use sophisticated prompts with variables and other elements. A prompt template may include:\n",
    "    * instructions,\n",
    "    * few-shot examples,\n",
    "    * and specific context and questions appropriate for a given task."
   ]
  },
  {
   "cell_type": "code",
   "execution_count": 7,
   "id": "a5383c7e-7e62-46d0-8bef-17ff45a88495",
   "metadata": {},
   "outputs": [
    {
     "data": {
      "text/plain": [
       "AIMessage(content='Here\\'s a curious story about the Kennedy family:\\n\\nYou may know that John F. Kennedy, the 35th President of the United States, had a sister named Rosemary Kennedy. What you might not know is that Rosemary was born with intellectual disabilities and was subjected to a lobotomy at the age of 23, which left her with severe cognitive and physical impairments.\\n\\nThe story goes that Rosemary\\'s parents, Joseph and Rose Kennedy, were concerned about her condition and sought a solution to \"cure\" her. They were advised by doctors that a lobotomy, a then-experimental procedure, could help alleviate her symptoms. The procedure involved severing or scraping away parts of the brain to supposedly reduce anxiety and erratic behavior.\\n\\nThe lobotomy was performed in 1941, and it had devastating consequences for Rosemary. She was left with significant cognitive impairment, unable to speak or walk, and was institutionalized for the rest of her life. Her family rarely spoke about her publicly, and her existence was largely kept out of the public eye.\\n\\nHere\\'s the curious part: after the lobotomy, Rosemary was placed in a Catholic institution in Wisconsin, where she lived for over 50 years, largely forgotten by her family. Her sisters, Eunice and Jean, would occasionally visit her, but the rest of the family rarely acknowledged her existence.\\n\\nIn the 1960s, Eunice Kennedy Shriver, Rosemary\\'s sister, began to take an interest in the treatment of people with intellectual disabilities, and she eventually founded the Special Olympics in 1968. Many believe that her experience with Rosemary inspired her to create this organization, which has since become a global movement promoting inclusion and acceptance of people with intellectual disabilities.\\n\\nThe story of Rosemary Kennedy is a complex and poignant one, highlighting the challenges and stigmas surrounding intellectual disabilities in the mid-20th century. It\\'s a powerful reminder of the importance of compassion, acceptance, and advocacy for all individuals, regardless of their abilities.', response_metadata={'token_usage': {'completion_tokens': 407, 'prompt_tokens': 20, 'total_tokens': 427, 'completion_time': 1.184811007, 'prompt_time': 0.003843543, 'queue_time': 0.012981925, 'total_time': 1.18865455}, 'model_name': 'llama3-70b-8192', 'system_fingerprint': 'fp_2f30b0b571', 'finish_reason': 'stop', 'logprobs': None}, id='run-81f5ca32-2343-4f46-ac33-47033661a909-0', usage_metadata={'input_tokens': 20, 'output_tokens': 407, 'total_tokens': 427})"
      ]
     },
     "execution_count": 7,
     "metadata": {},
     "output_type": "execute_result"
    }
   ],
   "source": [
    "from langchain_core.prompts import PromptTemplate\n",
    "\n",
    "prompt_template = PromptTemplate.from_template(\n",
    "    \"Tell me a {adjective} story about {topic}.\"\n",
    ")\n",
    "\n",
    "llmModelPrompt = prompt_template.format(\n",
    "    adjective=\"curious\", \n",
    "    topic=\"the Kennedy family\"\n",
    ")\n",
    "llamaChatModel.invoke(llmModelPrompt)\n",
    "# llmModel.invoke(llmModelPrompt)"
   ]
  },
  {
   "cell_type": "code",
   "execution_count": 9,
   "id": "beb7dbcd-524c-4acc-9b65-0b209a170ad7",
   "metadata": {},
   "outputs": [],
   "source": [
    "from langchain_core.prompts import ChatPromptTemplate\n",
    "\n",
    "chat_template = ChatPromptTemplate.from_messages(\n",
    "    [\n",
    "        (\"system\", \"You are an {profession} expert on {topic}.\"),\n",
    "        (\"human\", \"Hello, Mr. {profession}, can you please answer a question?\"),\n",
    "        (\"ai\", \"Sure!\"),\n",
    "        (\"human\", \"{user_input}\"),\n",
    "    ]\n",
    ")\n",
    "\n",
    "messages = chat_template.format_messages(\n",
    "    profession=\"Historian\",\n",
    "    topic=\"The Kennedy family\",\n",
    "    user_input=\"How many grandchildren had Joseph P. Kennedy?\"\n",
    ")\n",
    "\n",
    "response = llamaChatModel.invoke(messages)"
   ]
  },
  {
   "cell_type": "code",
   "execution_count": 11,
   "id": "7585be48-9a19-43ab-a275-8ef6a04246a7",
   "metadata": {},
   "outputs": [
    {
     "data": {
      "text/plain": [
       "AIMessage(content=\"Joseph P. Kennedy, the patriarch of the Kennedy family, had a total of 29 grandchildren. His nine children, including John F. Kennedy, Robert F. Kennedy, and others, had children of their own, resulting in a large and close-knit family. In fact, the Kennedy family is known for their strong family bonds and tradition of public service. Would you like to know more about the Kennedy family or is there something specific you'd like to ask?\", response_metadata={'token_usage': {'completion_tokens': 95, 'prompt_tokens': 61, 'total_tokens': 156, 'completion_time': 0.275712076, 'prompt_time': 0.005970755, 'queue_time': 0.010446741999999998, 'total_time': 0.281682831}, 'model_name': 'llama3-70b-8192', 'system_fingerprint': 'fp_2f30b0b571', 'finish_reason': 'stop', 'logprobs': None}, id='run-ed2cb701-5906-4f5a-8454-92d33cb08964-0', usage_metadata={'input_tokens': 61, 'output_tokens': 95, 'total_tokens': 156})"
      ]
     },
     "execution_count": 11,
     "metadata": {},
     "output_type": "execute_result"
    }
   ],
   "source": [
    "response"
   ]
  },
  {
   "cell_type": "code",
   "execution_count": 12,
   "id": "1373ca0b-342f-4ac6-a697-5e2ad30bfa8c",
   "metadata": {},
   "outputs": [
    {
     "name": "stdout",
     "output_type": "stream",
     "text": [
      "content=\"Joseph P. Kennedy, the patriarch of the Kennedy family, had a total of 29 grandchildren. His nine children, including John F. Kennedy, Robert F. Kennedy, and others, had children of their own, resulting in a large and close-knit family. In fact, the Kennedy family is known for their strong family bonds and tradition of public service. Would you like to know more about the Kennedy family or is there something specific you'd like to ask?\" response_metadata={'token_usage': {'completion_tokens': 95, 'prompt_tokens': 61, 'total_tokens': 156, 'completion_time': 0.275712076, 'prompt_time': 0.005970755, 'queue_time': 0.010446741999999998, 'total_time': 0.281682831}, 'model_name': 'llama3-70b-8192', 'system_fingerprint': 'fp_2f30b0b571', 'finish_reason': 'stop', 'logprobs': None} id='run-ed2cb701-5906-4f5a-8454-92d33cb08964-0' usage_metadata={'input_tokens': 61, 'output_tokens': 95, 'total_tokens': 156}\n"
     ]
    }
   ],
   "source": [
    "print(response)"
   ]
  },
  {
   "cell_type": "code",
   "execution_count": 13,
   "id": "6f6a5e25-e177-4d7a-ba29-6834a6a8152b",
   "metadata": {},
   "outputs": [
    {
     "name": "stdout",
     "output_type": "stream",
     "text": [
      "Joseph P. Kennedy, the patriarch of the Kennedy family, had a total of 29 grandchildren. His nine children, including John F. Kennedy, Robert F. Kennedy, and others, had children of their own, resulting in a large and close-knit family. In fact, the Kennedy family is known for their strong family bonds and tradition of public service. Would you like to know more about the Kennedy family or is there something specific you'd like to ask?\n"
     ]
    }
   ],
   "source": [
    "print(response.content)"
   ]
  },
  {
   "cell_type": "markdown",
   "id": "a6d770b4-80c5-49a6-a925-de3a800d19f2",
   "metadata": {},
   "source": [
    "#### Old way:"
   ]
  },
  {
   "cell_type": "code",
   "execution_count": 14,
   "id": "c6dafd17-47a2-4169-992e-76ffb9702d89",
   "metadata": {},
   "outputs": [],
   "source": [
    "from langchain_core.messages import SystemMessage\n",
    "from langchain_core.prompts import HumanMessagePromptTemplate\n",
    "\n",
    "chat_template = ChatPromptTemplate.from_messages(\n",
    "    [\n",
    "        SystemMessage(\n",
    "            content=(\n",
    "                \"You are an Historian expert on the Kennedy family.\"\n",
    "            )\n",
    "        ),\n",
    "        HumanMessagePromptTemplate.from_template(\"{user_input}\"),\n",
    "    ]\n",
    ")\n",
    "\n",
    "messages = chat_template.format_messages(\n",
    "    user_input=\"Name the children and grandchildren of Joseph P. Kennedy?\"\n",
    ")\n",
    "\n",
    "response = llamaChatModel.invoke(messages)"
   ]
  },
  {
   "cell_type": "code",
   "execution_count": null,
   "id": "a0268959",
   "metadata": {},
   "outputs": [],
   "source": [
    "# from langchain_core.messages import SystemMessage\n",
    "# from langchain_core.prompts import HumanMessagePromptTemplate\n",
    "\n",
    "# chat_template = ChatPromptTemplate.from_messages(\n",
    "#     [\n",
    "#         SystemMessage(\n",
    "#             content=(\n",
    "#                 \"You are an Historian expert on the Kennedy family.\"\n",
    "#             )\n",
    "#         ),\n",
    "#         HumanMessagePromptTemplate.from_template(\"{user_input}\"),\n",
    "#     ]\n",
    "# )\n",
    "\n",
    "# messages = chat_template.format_messages(\n",
    "#     user_input=\"Name the children and grandchildren of Joseph P. Kennedy?\"\n",
    "# )\n",
    "\n",
    "# response = chatModel.invoke(messages)"
   ]
  },
  {
   "cell_type": "code",
   "execution_count": 15,
   "id": "2a4d5a5a-c3a3-48be-8b31-40b0881faa9a",
   "metadata": {},
   "outputs": [
    {
     "name": "stdout",
     "output_type": "stream",
     "text": [
      "As an historian expert on the Kennedy family, I'd be delighted to provide you with the list of children and grandchildren of Joseph P. Kennedy Sr.\n",
      "\n",
      "**Children of Joseph P. Kennedy Sr. and Rose Fitzgerald Kennedy:**\n",
      "\n",
      "1. **Joseph Patrick Kennedy Jr.** (1915-1944)\n",
      "2. **John Fitzgerald Kennedy** (1917-1963) - 35th President of the United States\n",
      "3. **Rosemary Kennedy** (1918-2005)\n",
      "4. **Kathleen Kennedy Cavendish** (1920-1948)\n",
      "5. **Eunice Kennedy Shriver** (1921-2009)\n",
      "6. **Patricia Kennedy Lawford** (1924-2006)\n",
      "7. **Robert Francis Kennedy** (1925-1968) - U.S. Attorney General and U.S. Senator\n",
      "8. **Jean Kennedy Smith** (1928-2020)\n",
      "9. **Edward Moore Kennedy** (1932-2009) - U.S. Senator\n",
      "\n",
      "**Grandchildren of Joseph P. Kennedy Sr. and Rose Fitzgerald Kennedy:**\n",
      "\n",
      "**Children of Joseph P. Kennedy Jr.:**\n",
      "\n",
      "* None (Joseph Jr. died in 1944, before having children)\n",
      "\n",
      "**Children of John F. Kennedy:**\n",
      "\n",
      "1. **Arabella Kennedy** (1956-1956) - stillborn\n",
      "2. **Caroline Bouvier Kennedy** (b. 1957)\n",
      "3. **John Fitzgerald Kennedy Jr.** (1960-1999)\n",
      "4. **Patrick Bouvier Kennedy** (1963-1963) - died in infancy\n",
      "\n",
      "**Children of Rosemary Kennedy:**\n",
      "\n",
      "* None (Rosemary had intellectual disabilities and did not have children)\n",
      "\n",
      "**Children of Kathleen Kennedy Cavendish:**\n",
      "\n",
      "1. **Christopher Kennedy** (b. 1945)\n",
      "2. **Joseph P. Kennedy II** (b. 1947)\n",
      "3. **David Kennedy** (1955-1984)\n",
      "4. **William Kennedy** (b. 1960)\n",
      "\n",
      "**Children of Eunice Kennedy Shriver:**\n",
      "\n",
      "1. **Maria Shriver** (b. 1955)\n",
      "2. **Timothy Shriver** (b. 1959)\n",
      "3. **Mark Shriver** (b. 1964)\n",
      "4. **Anthony Shriver** (b. 1965)\n",
      "\n",
      "**Children of Patricia Kennedy Lawford:**\n",
      "\n",
      "1. **Christopher Lawford** (1955-2018)\n",
      "2. **Sydney Lawford** (b. 1956)\n",
      "3. **Victoria Lawford** (b. 1958)\n",
      "4. **Robin Lawford** (b. 1961)\n",
      "\n",
      "**Children of Robert F. Kennedy:**\n",
      "\n",
      "1. **Kathleen Kennedy Townsend** (b. 1951)\n",
      "2. **Joseph P. Kennedy II** (b. 1952)\n",
      "3. **Robert F. Kennedy Jr.** (b. 1954)\n",
      "4. **David Kennedy** (1955-1984)\n",
      "5. **Mary Richardson Kennedy** (1959-2012)\n",
      "6. **Michael LeMoyne Kennedy** (1960-1997)\n",
      "7. **Christopher George Kennedy** (b. 1963)\n",
      "8. **Matthew Maxwell Taylor Kennedy** (b. 1965)\n",
      "9. **Rory Kennedy** (b. 1968)\n",
      "10. **Kerry Kennedy** (b. 1969)\n",
      "11. **Christopher George Kennedy Jr.** (b. 1970) - adopted\n",
      "\n",
      "**Children of Jean Kennedy Smith:**\n",
      "\n",
      "1. **William Kennedy Smith** (b. 1960)\n",
      "2. **Amanda Mary Smith** (b. 1967)\n",
      "\n",
      "**Children of Edward M. Kennedy:**\n",
      "\n",
      "1. **Kara Anne Kennedy** (1960-2011)\n",
      "2. **Edward Moore Kennedy Jr.** (b. 1961)\n",
      "3. **Patrick Joseph Kennedy II** (b. 1967)\n",
      "\n",
      "Please note that this list only includes the biological children and grandchildren of Joseph P. Kennedy Sr. and Rose Fitzgerald Kennedy. There are also several great-grandchildren, nieces, and nephews in the Kennedy family.\n"
     ]
    }
   ],
   "source": [
    "print(response.content)"
   ]
  },
  {
   "cell_type": "markdown",
   "id": "0b510dd0-33b7-4737-aef2-c52a1e8bbf41",
   "metadata": {},
   "source": [
    "#### What is the full potential of ChatPromptTemplate?\n",
    "* Check the [corresponding page](https://api.python.langchain.com/en/latest/prompts/langchain_core.prompts.chat.ChatPromptTemplate.html) in the LangChain API."
   ]
  },
  {
   "cell_type": "markdown",
   "id": "502b9539",
   "metadata": {},
   "source": [
    "## Basic prompting strategies"
   ]
  },
  {
   "cell_type": "markdown",
   "id": "2a985bbc",
   "metadata": {},
   "source": [
    "* Zero Shot Prompt: \"Classify the sentiment of this review: ...\"\n",
    "* Few Shot Prompt: \"Classify the sentiment of this review based on these examples: ...\"\n",
    "* Chain Of Thought Prompt: \"Classify the sentiment of this review based on these examples and explanations of the reasoning behind: ...\""
   ]
  },
  {
   "cell_type": "markdown",
   "id": "c649bc16",
   "metadata": {},
   "source": [
    "## Few Shot Prompting"
   ]
  },
  {
   "cell_type": "code",
   "execution_count": 16,
   "id": "c285419d",
   "metadata": {},
   "outputs": [],
   "source": [
    "from langchain_core.prompts import FewShotChatMessagePromptTemplate"
   ]
  },
  {
   "cell_type": "code",
   "execution_count": 18,
   "id": "f3ae0df0-44fe-4fd2-89a5-bac45a84e612",
   "metadata": {},
   "outputs": [],
   "source": [
    "examples = [\n",
    "    {\"input\": \"hi!\", \"output\": \"¡hola!\"},\n",
    "    {\"input\": \"bye!\", \"output\": \"¡adiós!\"},\n",
    "]\n",
    "\n",
    "example_prompt = ChatPromptTemplate.from_messages(\n",
    "    [\n",
    "        (\"human\", \"{input}\"),\n",
    "        (\"ai\", \"{output}\"),\n",
    "    ]\n",
    ")\n",
    "\n",
    "few_shot_prompt = FewShotChatMessagePromptTemplate(\n",
    "    example_prompt=example_prompt,\n",
    "    examples=examples,\n",
    ")\n",
    "\n",
    "final_prompt = ChatPromptTemplate.from_messages(\n",
    "    [\n",
    "        (\"system\", \"You are an English-Spanish translator.\"),\n",
    "        few_shot_prompt,\n",
    "        (\"human\", \"{input}\"),\n",
    "    ]\n",
    ")"
   ]
  },
  {
   "cell_type": "markdown",
   "id": "512a50eb-dfe4-4d08-802e-c3dbc40a3444",
   "metadata": {},
   "source": [
    "## How to execute the code from Visual Studio Code\n",
    "* In Visual Studio Code, see the file 001-connect-llms.py\n",
    "* In terminal, make sure you are in the directory of the file and run:\n",
    "    * python 003-prompt-templates.py"
   ]
  },
  {
   "cell_type": "code",
   "execution_count": null,
   "id": "9d0d7c2f-57ed-43f5-b6ed-77c54243c069",
   "metadata": {},
   "outputs": [],
   "source": []
  }
 ],
 "metadata": {
  "kernelspec": {
   "display_name": "llmapp",
   "language": "python",
   "name": "python3"
  },
  "language_info": {
   "codemirror_mode": {
    "name": "ipython",
    "version": 3
   },
   "file_extension": ".py",
   "mimetype": "text/x-python",
   "name": "python",
   "nbconvert_exporter": "python",
   "pygments_lexer": "ipython3",
   "version": "3.11.11"
  }
 },
 "nbformat": 4,
 "nbformat_minor": 5
}
