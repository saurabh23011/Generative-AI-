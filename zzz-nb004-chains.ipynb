{
 "cells": [
  {
   "cell_type": "markdown",
   "id": "465c003a-29cf-4cfe-a0c6-d36c04ae2b37",
   "metadata": {},
   "source": [
    "# Chains\n",
    "* Perform several actions in a particular order."
   ]
  },
  {
   "cell_type": "code",
   "execution_count": 1,
   "id": "e9a10870-432e-4818-aa5e-6be24c579d39",
   "metadata": {},
   "outputs": [],
   "source": [
    "#pip install python-dotenv"
   ]
  },
  {
   "cell_type": "code",
   "execution_count": 1,
   "id": "edd07656",
   "metadata": {},
   "outputs": [],
   "source": [
    "import os\n",
    "from dotenv import load_dotenv, find_dotenv\n",
    "_ = load_dotenv(find_dotenv())"
   ]
  },
  {
   "cell_type": "code",
   "execution_count": 1,
   "id": "fecd39d0-e72e-4bc2-8a68-2fa4008ea365",
   "metadata": {},
   "outputs": [],
   "source": [
    "# import os\n",
    "# from dotenv import load_dotenv, find_dotenv\n",
    "# _ = load_dotenv(find_dotenv())\n",
    "# openai_api_key = os.environ[\"OPENAI_API_KEY\"]"
   ]
  },
  {
   "cell_type": "markdown",
   "id": "03f4a923-b19e-498e-9be5-e47ec4a77d80",
   "metadata": {},
   "source": [
    "#### Install LangChain"
   ]
  },
  {
   "cell_type": "markdown",
   "id": "6fa888f7-3718-4829-8645-30acb43db51f",
   "metadata": {},
   "source": [
    "If you are using the pre-loaded poetry shell, you do not need to install the following package because it is already pre-loaded for you:"
   ]
  },
  {
   "cell_type": "code",
   "execution_count": 3,
   "id": "c1cf94ae-6c39-4475-9c5b-4b74d8d78753",
   "metadata": {},
   "outputs": [],
   "source": [
    "#!pip install langchain"
   ]
  },
  {
   "cell_type": "markdown",
   "id": "189e9e17-dfb0-4fd3-85b9-1fba83771941",
   "metadata": {},
   "source": [
    "## Connect with an LLM"
   ]
  },
  {
   "cell_type": "markdown",
   "id": "4d5d5b71-b26a-4cd5-9765-019077a67141",
   "metadata": {},
   "source": [
    "If you are using the pre-loaded poetry shell, you do not need to install the following package because it is already pre-loaded for you:"
   ]
  },
  {
   "cell_type": "code",
   "execution_count": 4,
   "id": "148df8e0-361d-4ddd-8709-af48fa1648d1",
   "metadata": {},
   "outputs": [],
   "source": [
    "#!pip install langchain-openai"
   ]
  },
  {
   "cell_type": "markdown",
   "id": "a1998155-91de-4cbc-bc88-8d77beefb51b",
   "metadata": {},
   "source": [
    "* NOTE: Since right now is the best LLM in the market, we will use OpenAI by default. You will see how to connect with other Open Source LLMs like Llama3 or Mistral in a next lesson."
   ]
  },
  {
   "cell_type": "markdown",
   "id": "fbf1d17b-6d15-423b-b554-26d6d977ca27",
   "metadata": {},
   "source": [
    "## LLM Model\n",
    "* The trend before the launch of chatGPT-4.\n",
    "* See LangChain documentation about LLM Models [here](https://python.langchain.com/v0.1/docs/modules/model_io/llms/)."
   ]
  },
  {
   "cell_type": "code",
   "execution_count": 2,
   "id": "e92628f2-62e8-436c-92d4-e849de7744ad",
   "metadata": {},
   "outputs": [],
   "source": [
    "# from langchain_openai import OpenAI\n",
    "\n",
    "# llmModel = OpenAI()"
   ]
  },
  {
   "cell_type": "code",
   "execution_count": 2,
   "id": "55dee9d5",
   "metadata": {},
   "outputs": [],
   "source": [
    "from langchain_groq import ChatGroq\n",
    "\n",
    "llamaChatModel = ChatGroq(\n",
    "    model=\"llama3-70b-8192\"\n",
    ")"
   ]
  },
  {
   "cell_type": "markdown",
   "id": "31346a0c-ee9c-4a80-8e8a-85ef682df7c3",
   "metadata": {},
   "source": [
    "## Chat Model\n",
    "* The general trend after the launch of chatGPT-4.\n",
    "    * Frequently known as \"Chatbot\". \n",
    "    * Conversation between Human and AI.\n",
    "    * Can have a system prompt defining the tone or the role of the AI. \n",
    "* See LangChain documentation about Chat Models [here](https://python.langchain.com/v0.1/docs/modules/model_io/chat/).\n",
    "* By default we will work with ChatOpenAI. See [here](https://python.langchain.com/v0.1/docs/integrations/chat/openai/) the LangChain documentation page about it."
   ]
  },
  {
   "cell_type": "code",
   "execution_count": 3,
   "id": "b14d27c3-0b1b-4b11-a883-8da2734f21a7",
   "metadata": {},
   "outputs": [],
   "source": [
    "# from langchain_openai import ChatOpenAI\n",
    "\n",
    "# chatModel = ChatOpenAI(model=\"gpt-3.5-turbo-0125\")"
   ]
  },
  {
   "cell_type": "markdown",
   "id": "c2f91601-8594-41d3-9316-d51791fc54e8",
   "metadata": {},
   "source": [
    "## Prompts\n",
    "* See the LangChain documentation about prompts [here](https://python.langchain.com/v0.1/docs/modules/model_io/prompts/quick_start/).\n",
    "* Input into LLMs.\n",
    "* Prompt templates: easier to use prompts with variables. A prompt template may include:\n",
    "    * instructions,\n",
    "    * few-shot examples,\n",
    "    * and specific context and questions appropriate for a given task."
   ]
  },
  {
   "cell_type": "code",
   "execution_count": 4,
   "id": "a5383c7e-7e62-46d0-8bef-17ff45a88495",
   "metadata": {},
   "outputs": [
    {
     "data": {
      "text/plain": [
       "'\\n\\nIn 1963, President John F. Kennedy\\'s son, John F. Kennedy Jr., was just three years old and learning to read. One day, he was looking through a book with his mother Jacqueline Kennedy and came across a picture of a man holding a flag. John Jr. pointed to the man and said, \"Look, it\\'s Daddy.\" His mother was taken aback, as the man in the picture did indeed resemble his father. She asked him how he knew it was his father, to which John Jr. replied, \"Because that\\'s me next to him.\" Jacqueline was stunned as the picture was taken years before John Jr. was even born. The eerie coincidence sparked rumors that John Jr. was the reincarnation of his father, and the story has become a popular topic in Kennedy family lore.'"
      ]
     },
     "execution_count": 4,
     "metadata": {},
     "output_type": "execute_result"
    }
   ],
   "source": [
    "# from langchain_core.prompts import PromptTemplate\n",
    "\n",
    "# prompt_template = PromptTemplate.from_template(\n",
    "#     \"Tell me a {adjective} story about {topic}.\"\n",
    "# )\n",
    "\n",
    "# llmModelPrompt = prompt_template.format(\n",
    "#     adjective=\"curious\", \n",
    "#     topic=\"the Kennedy family\"\n",
    "# )\n",
    "\n",
    "# llmModel.invoke(llmModelPrompt)"
   ]
  },
  {
   "cell_type": "code",
   "execution_count": 3,
   "id": "a9e3030a",
   "metadata": {},
   "outputs": [
    {
     "data": {
      "text/plain": [
       "AIMessage(content='I\\'d be delighted to share a curious story about the Kennedy family!\\n\\nHere\\'s one that might raise an eyebrow:\\n\\nDid you know that the Kennedy family had a secret sister named Rosemary Kennedy? Born in 1918, Rosemary was the third child of Joseph P. Kennedy Sr. and Rose Fitzgerald Kennedy, and the older sister of John F. Kennedy, Robert F. Kennedy, and the other Kennedy siblings.\\n\\nRosemary was born with intellectual disabilities and struggled with learning and development. Despite her challenges, she was known to be a kind and gentle soul, loved by her family. However, as she grew older, her condition became increasingly difficult for her family to manage.\\n\\nIn 1941, when Rosemary was 23 years old, her father, Joseph P. Kennedy Sr., made the controversial decision to have her undergo a prefrontal lobotomy, a then-experimental procedure that aimed to \"cure\" mental illnesses by severing connections in the brain.\\n\\nThe surgery was performed by two doctors, Dr. Walter Freeman and Dr. James Watts, who had developed the procedure. However, the operation was botched, leaving Rosemary with severe cognitive and physical impairments. She was left unable to speak, walk, or care for herself, and was eventually institutionalized.\\n\\nThe Kennedy family kept Rosemary\\'s condition and the lobotomy a secret, even from their closest friends and relatives. It wasn\\'t until the 1980s, decades later, that the story of Rosemary\\'s tragic fate was revealed to the public.\\n\\nRosemary spent the rest of her life in institutions, away from her family and the public eye. She passed away in 2005, at the age of 86, surrounded by her caregivers.\\n\\nThis story is not only a tragic reminder of the dark days of medical experimentation but also a testament to the complexities and secrets that often lie beneath the surface of even the most prominent and influential families.\\n\\nNow, isn\\'t that a curious story about the Kennedy family?', response_metadata={'token_usage': {'completion_tokens': 403, 'prompt_tokens': 20, 'total_tokens': 423, 'completion_time': 1.199366286, 'prompt_time': 0.003748285, 'queue_time': 0.010955184, 'total_time': 1.203114571}, 'model_name': 'llama3-70b-8192', 'system_fingerprint': 'fp_2f30b0b571', 'finish_reason': 'stop', 'logprobs': None}, id='run-e6c9a3a9-4ff0-4b78-a2bc-f86f703bcb09-0', usage_metadata={'input_tokens': 20, 'output_tokens': 403, 'total_tokens': 423})"
      ]
     },
     "execution_count": 3,
     "metadata": {},
     "output_type": "execute_result"
    }
   ],
   "source": [
    "from langchain_core.prompts import PromptTemplate\n",
    "\n",
    "prompt_template = PromptTemplate.from_template(\n",
    "    \"Tell me a {adjective} story about {topic}.\"\n",
    ")\n",
    "\n",
    "llmModelPrompt = prompt_template.format(\n",
    "    adjective=\"curious\", \n",
    "    topic=\"the Kennedy family\"\n",
    ")\n",
    "llamaChatModel.invoke(llmModelPrompt)"
   ]
  },
  {
   "cell_type": "code",
   "execution_count": 5,
   "id": "beb7dbcd-524c-4acc-9b65-0b209a170ad7",
   "metadata": {},
   "outputs": [],
   "source": [
    "# from langchain_core.prompts import ChatPromptTemplate\n",
    "\n",
    "# chat_template = ChatPromptTemplate.from_messages(\n",
    "#     [\n",
    "#         (\"system\", \"You are an {profession} expert on {topic}.\"),\n",
    "#         (\"human\", \"Hello, Mr. {profession}, can you please answer a question?\"),\n",
    "#         (\"ai\", \"Sure!\"),\n",
    "#         (\"human\", \"{user_input}\"),\n",
    "#     ]\n",
    "# )\n",
    "\n",
    "# messages = chat_template.format_messages(\n",
    "#     profession=\"Historian\",\n",
    "#     topic=\"The Kennedy family\",\n",
    "#     user_input=\"How many grandchildren had Joseph P. Kennedy?\"\n",
    "# )\n",
    "\n",
    "# response = chatModel.invoke(messages)"
   ]
  },
  {
   "cell_type": "code",
   "execution_count": 4,
   "id": "eac5f270",
   "metadata": {},
   "outputs": [],
   "source": [
    "from langchain_core.prompts import ChatPromptTemplate\n",
    "\n",
    "chat_template = ChatPromptTemplate.from_messages(\n",
    "    [\n",
    "        (\"system\", \"You are an {profession} expert on {topic}.\"),\n",
    "        (\"human\", \"Hello, Mr. {profession}, can you please answer a question?\"),\n",
    "        (\"ai\", \"Sure!\"),\n",
    "        (\"human\", \"{user_input}\"),\n",
    "    ]\n",
    ")\n",
    "\n",
    "messages = chat_template.format_messages(\n",
    "    profession=\"Historian\",\n",
    "    topic=\"The Kennedy family\",\n",
    "    user_input=\"How many grandchildren had Joseph P. Kennedy?\"\n",
    ")\n",
    "\n",
    "response = llamaChatModel.invoke(messages)"
   ]
  },
  {
   "cell_type": "code",
   "execution_count": 5,
   "id": "7585be48-9a19-43ab-a275-8ef6a04246a7",
   "metadata": {},
   "outputs": [
    {
     "data": {
      "text/plain": [
       "AIMessage(content='Joseph P. Kennedy, the patriarch of the Kennedy family, had a total of 29 grandchildren. His four sons, Joseph P. Kennedy Jr., John F. Kennedy, Robert F. Kennedy, and Edward M. Kennedy, had a combined total of 29 children among them.', response_metadata={'token_usage': {'completion_tokens': 58, 'prompt_tokens': 61, 'total_tokens': 119, 'completion_time': 0.171624878, 'prompt_time': 0.006189726, 'queue_time': 0.382862685, 'total_time': 0.177814604}, 'model_name': 'llama3-70b-8192', 'system_fingerprint': 'fp_2f30b0b571', 'finish_reason': 'stop', 'logprobs': None}, id='run-ed18644d-4719-4684-a196-11cb40abd21a-0', usage_metadata={'input_tokens': 61, 'output_tokens': 58, 'total_tokens': 119})"
      ]
     },
     "execution_count": 5,
     "metadata": {},
     "output_type": "execute_result"
    }
   ],
   "source": [
    "response"
   ]
  },
  {
   "cell_type": "code",
   "execution_count": 6,
   "id": "1373ca0b-342f-4ac6-a697-5e2ad30bfa8c",
   "metadata": {},
   "outputs": [
    {
     "name": "stdout",
     "output_type": "stream",
     "text": [
      "content='Joseph P. Kennedy, the patriarch of the Kennedy family, had a total of 29 grandchildren. His four sons, Joseph P. Kennedy Jr., John F. Kennedy, Robert F. Kennedy, and Edward M. Kennedy, had a combined total of 29 children among them.' response_metadata={'token_usage': {'completion_tokens': 58, 'prompt_tokens': 61, 'total_tokens': 119, 'completion_time': 0.171624878, 'prompt_time': 0.006189726, 'queue_time': 0.382862685, 'total_time': 0.177814604}, 'model_name': 'llama3-70b-8192', 'system_fingerprint': 'fp_2f30b0b571', 'finish_reason': 'stop', 'logprobs': None} id='run-ed18644d-4719-4684-a196-11cb40abd21a-0' usage_metadata={'input_tokens': 61, 'output_tokens': 58, 'total_tokens': 119}\n"
     ]
    }
   ],
   "source": [
    "print(response)"
   ]
  },
  {
   "cell_type": "code",
   "execution_count": 7,
   "id": "6f6a5e25-e177-4d7a-ba29-6834a6a8152b",
   "metadata": {},
   "outputs": [
    {
     "name": "stdout",
     "output_type": "stream",
     "text": [
      "Joseph P. Kennedy, the patriarch of the Kennedy family, had a total of 29 grandchildren. His four sons, Joseph P. Kennedy Jr., John F. Kennedy, Robert F. Kennedy, and Edward M. Kennedy, had a combined total of 29 children among them.\n"
     ]
    }
   ],
   "source": [
    "print(response.content)"
   ]
  },
  {
   "cell_type": "markdown",
   "id": "a6d770b4-80c5-49a6-a925-de3a800d19f2",
   "metadata": {},
   "source": [
    "#### Old way:"
   ]
  },
  {
   "cell_type": "code",
   "execution_count": 30,
   "id": "c6dafd17-47a2-4169-992e-76ffb9702d89",
   "metadata": {},
   "outputs": [],
   "source": [
    "# from langchain_core.messages import SystemMessage\n",
    "# from langchain_core.prompts import HumanMessagePromptTemplate\n",
    "\n",
    "# chat_template = ChatPromptTemplate.from_messages(\n",
    "#     [\n",
    "#         SystemMessage(\n",
    "#             content=(\n",
    "#                 \"You are an Historian expert on the Kennedy family.\"\n",
    "#             )\n",
    "#         ),\n",
    "#         HumanMessagePromptTemplate.from_template(\"{user_input}\"),\n",
    "#     ]\n",
    "# )\n",
    "\n",
    "# messages = chat_template.format_messages(\n",
    "#     user_input=\"Name the children and grandchildren of Joseph P. Kennedy?\"\n",
    "# )\n",
    "\n",
    "# response = chatModel.invoke(messages)"
   ]
  },
  {
   "cell_type": "code",
   "execution_count": 8,
   "id": "06225eb0",
   "metadata": {},
   "outputs": [],
   "source": [
    "from langchain_core.messages import SystemMessage\n",
    "from langchain_core.prompts import HumanMessagePromptTemplate\n",
    "\n",
    "chat_template = ChatPromptTemplate.from_messages(\n",
    "    [\n",
    "        SystemMessage(\n",
    "            content=(\n",
    "                \"You are an Historian expert on the Kennedy family.\"\n",
    "            )\n",
    "        ),\n",
    "        HumanMessagePromptTemplate.from_template(\"{user_input}\"),\n",
    "    ]\n",
    ")\n",
    "\n",
    "messages = chat_template.format_messages(\n",
    "    user_input=\"Name the children and grandchildren of Joseph P. Kennedy?\"\n",
    ")\n",
    "\n",
    "response = llamaChatModel.invoke(messages)"
   ]
  },
  {
   "cell_type": "code",
   "execution_count": 9,
   "id": "2a4d5a5a-c3a3-48be-8b31-40b0881faa9a",
   "metadata": {},
   "outputs": [
    {
     "name": "stdout",
     "output_type": "stream",
     "text": [
      "Joseph P. Kennedy, the patriarch of the Kennedy family, had nine children with his wife Rose Fitzgerald Kennedy. Here are their names:\n",
      "\n",
      "1. Joseph Patrick Kennedy Jr. (1915-1944)\n",
      "2. John Fitzgerald Kennedy (1917-1963)\n",
      "3. Rose Marie Kennedy (1918-2005)\n",
      "4. Kathleen Agnes Kennedy (1920-1948)\n",
      "5. Eunice Mary Kennedy (1921-2009)\n",
      "6. Patricia Helen Kennedy (1924-2006)\n",
      "7. Robert Francis Kennedy (1925-1968)\n",
      "8. Jean Ann Kennedy (b. 1928)\n",
      "9. Edward Moore Kennedy (1932-2009)\n",
      "\n",
      "As for the grandchildren of Joseph P. Kennedy, there are a total of 29 grandchildren from his nine children. Here are their names:\n",
      "\n",
      "Children of Joseph P. Kennedy Jr.:\n",
      "\n",
      "* None (Joseph P. Kennedy Jr. died in 1944 without any children)\n",
      "\n",
      "Children of John F. Kennedy:\n",
      "\n",
      "* Arabella Kennedy (1956-1956)\n",
      "* Caroline Bouvier Kennedy (b. 1957)\n",
      "* John Fitzgerald Kennedy Jr. (1960-1999)\n",
      "* Patrick Bouvier Kennedy (1963-1963)\n",
      "\n",
      "Children of Rosemary Kennedy:\n",
      "\n",
      "* None (Rosemary Kennedy had intellectual disabilities and did not have children)\n",
      "\n",
      "Children of Kathleen Kennedy:\n",
      "\n",
      "* None (Kathleen Kennedy died in 1948 without any children)\n",
      "\n",
      "Children of Eunice Kennedy:\n",
      "\n",
      "* Maria Shriver (b. 1955)\n",
      "* Timothy Perry Shriver (b. 1959)\n",
      "* Mark Kennedy Shriver (b. 1964)\n",
      "* Anthony Paul Kennedy Shriver (b. 1965)\n",
      "\n",
      "Children of Patricia Kennedy:\n",
      "\n",
      "* Christopher George Kennedy (b. 1958)\n",
      "* Matthew Maxwell Taylor Kennedy (b. 1965)\n",
      "* Rory Kennedy (b. 1968)\n",
      "* Douglas Harriman Kennedy (b. 1967)\n",
      "* William Kennedy Smith (b. 1960)\n",
      "\n",
      "Children of Robert F. Kennedy:\n",
      "\n",
      "* Kathleen Kennedy Townsend (b. 1951)\n",
      "* Joseph Patrick Kennedy II (b. 1952)\n",
      "* Robert Francis Kennedy Jr. (b. 1954)\n",
      "* David Anthony Kennedy (1955-1984)\n",
      "* Mary Richardson Kennedy (1956-2012)\n",
      "* Michael LeMoyne Kennedy (1958-1997)\n",
      "* Christopher George Kennedy (b. 1963)\n",
      "* Matthew Maxwell Taylor Kennedy (b. 1965)\n",
      "* Rory Kennedy (b. 1968)\n",
      "* Douglas Harriman Kennedy (b. 1967)\n",
      "* William Kennedy Smith (b. 1960)\n",
      "\n",
      "Children of Jean Kennedy:\n",
      "\n",
      "* Stephen Edward Smith Jr. (b. 1957)\n",
      "* William Kennedy Smith (b. 1960)\n",
      "* Amanda Mary Smith (b. 1967)\n",
      "* Kym Maria Smith (b. 1972)\n",
      "\n",
      "Children of Edward M. Kennedy:\n",
      "\n",
      "* Kara Anne Kennedy (1960-2011)\n",
      "* Edward Moore Kennedy Jr. (b. 1961)\n",
      "* Patrick Joseph Kennedy II (b. 1967)\n",
      "\n",
      "Note: This list only includes the biological grandchildren of Joseph P. Kennedy and does not include step-grandchildren or great-grandchildren.\n"
     ]
    }
   ],
   "source": [
    "print(response.content)"
   ]
  },
  {
   "cell_type": "markdown",
   "id": "0b510dd0-33b7-4737-aef2-c52a1e8bbf41",
   "metadata": {},
   "source": [
    "#### What is the full potential of ChatPromptTemplate?\n",
    "* Check the [corresponding page](https://api.python.langchain.com/en/latest/prompts/langchain_core.prompts.chat.ChatPromptTemplate.html) in the LangChain API."
   ]
  },
  {
   "cell_type": "markdown",
   "id": "d9f8be09-99fc-491e-babb-0b8ad5bc74c2",
   "metadata": {},
   "source": [
    "## Our first chain: an example of few-shot prompting"
   ]
  },
  {
   "cell_type": "code",
   "execution_count": 10,
   "id": "301ae08a-e223-4239-8eca-8468ceb1e0d3",
   "metadata": {},
   "outputs": [],
   "source": [
    "from langchain_core.prompts import FewShotChatMessagePromptTemplate"
   ]
  },
  {
   "cell_type": "code",
   "execution_count": 11,
   "id": "b882accd-e3e7-4e8a-9d85-55ebaa945837",
   "metadata": {},
   "outputs": [],
   "source": [
    "examples = [\n",
    "    {\"input\": \"hi!\", \"output\": \"¡hola!\"},\n",
    "    {\"input\": \"bye!\", \"output\": \"¡adiós!\"},\n",
    "]"
   ]
  },
  {
   "cell_type": "code",
   "execution_count": 11,
   "id": "b973d828-0f47-4c43-98ab-e3db306d41e8",
   "metadata": {},
   "outputs": [
    {
     "data": {
      "text/plain": [
       "AIMessage(content='¿Quién fue JFK?\\n\\n', response_metadata={'token_usage': {'completion_tokens': 6, 'prompt_tokens': 52, 'total_tokens': 58, 'completion_tokens_details': {'audio_tokens': None, 'reasoning_tokens': 0}, 'prompt_tokens_details': {'audio_tokens': None, 'cached_tokens': 0}}, 'model_name': 'gpt-3.5-turbo-0125', 'system_fingerprint': None, 'finish_reason': 'stop', 'logprobs': None}, id='run-97b23384-a242-48ac-a72c-cb7efbf06c70-0', usage_metadata={'input_tokens': 52, 'output_tokens': 6, 'total_tokens': 58})"
      ]
     },
     "execution_count": 11,
     "metadata": {},
     "output_type": "execute_result"
    }
   ],
   "source": [
    "# example_prompt = ChatPromptTemplate.from_messages(\n",
    "#     [\n",
    "#         (\"human\", \"{input}\"),\n",
    "#         (\"ai\", \"{output}\"),\n",
    "#     ]\n",
    "# )\n",
    "\n",
    "# few_shot_prompt = FewShotChatMessagePromptTemplate(\n",
    "#     example_prompt=example_prompt,\n",
    "#     examples=examples,\n",
    "# )\n",
    "\n",
    "# final_prompt = ChatPromptTemplate.from_messages(\n",
    "#     [\n",
    "#         (\"system\", \"You are an English-Spanish translator.\"),\n",
    "#         few_shot_prompt,\n",
    "#         (\"human\", \"{input}\"),\n",
    "#     ]\n",
    "# )\n",
    "\n",
    "# chain = final_prompt | chatModel\n",
    "\n",
    "# chain.invoke({\"input\": \"Who was JFK?\"})"
   ]
  },
  {
   "cell_type": "code",
   "execution_count": 12,
   "id": "b5a146a9",
   "metadata": {},
   "outputs": [
    {
     "data": {
      "text/plain": [
       "AIMessage(content='¿Quién fue JFK?\\n\\nJohn F. Kennedy, commonly referred to as JFK, was the 35th President of the United States, serving from 1961 until his assassination in 1963.', response_metadata={'token_usage': {'completion_tokens': 42, 'prompt_tokens': 60, 'total_tokens': 102, 'completion_time': 0.133050891, 'prompt_time': 0.009710673, 'queue_time': 0.03959433, 'total_time': 0.142761564}, 'model_name': 'llama3-70b-8192', 'system_fingerprint': 'fp_7ab5f7e105', 'finish_reason': 'stop', 'logprobs': None}, id='run-f6c4e170-86f8-40b5-97f4-c09b4b94cb0e-0', usage_metadata={'input_tokens': 60, 'output_tokens': 42, 'total_tokens': 102})"
      ]
     },
     "execution_count": 12,
     "metadata": {},
     "output_type": "execute_result"
    }
   ],
   "source": [
    "example_prompt = ChatPromptTemplate.from_messages(\n",
    "    [\n",
    "        (\"human\", \"{input}\"),\n",
    "        (\"ai\", \"{output}\"),\n",
    "    ]\n",
    ")\n",
    "\n",
    "few_shot_prompt = FewShotChatMessagePromptTemplate(\n",
    "    example_prompt=example_prompt,\n",
    "    examples=examples,\n",
    ")\n",
    "\n",
    "final_prompt = ChatPromptTemplate.from_messages(\n",
    "    [\n",
    "        (\"system\", \"You are an English-Spanish translator.\"),\n",
    "        few_shot_prompt,\n",
    "        (\"human\", \"{input}\"),\n",
    "    ]\n",
    ")\n",
    "\n",
    "chain = final_prompt | llamaChatModel\n",
    "\n",
    "chain.invoke({\"input\": \"Who was JFK?\"})"
   ]
  },
  {
   "cell_type": "markdown",
   "id": "512a50eb-dfe4-4d08-802e-c3dbc40a3444",
   "metadata": {},
   "source": [
    "## How to execute the code from Visual Studio Code\n",
    "* In Visual Studio Code, see the file 001-connect-llms.py\n",
    "* In terminal, make sure you are in the directory of the file and run:\n",
    "    * python 004-chains.py"
   ]
  },
  {
   "cell_type": "code",
   "execution_count": null,
   "id": "9d0d7c2f-57ed-43f5-b6ed-77c54243c069",
   "metadata": {},
   "outputs": [],
   "source": []
  }
 ],
 "metadata": {
  "kernelspec": {
   "display_name": "llmapp",
   "language": "python",
   "name": "python3"
  },
  "language_info": {
   "codemirror_mode": {
    "name": "ipython",
    "version": 3
   },
   "file_extension": ".py",
   "mimetype": "text/x-python",
   "name": "python",
   "nbconvert_exporter": "python",
   "pygments_lexer": "ipython3",
   "version": "3.11.11"
  }
 },
 "nbformat": 4,
 "nbformat_minor": 5
}
